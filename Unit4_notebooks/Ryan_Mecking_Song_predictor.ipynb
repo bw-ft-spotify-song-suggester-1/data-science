{
  "nbformat": 4,
  "nbformat_minor": 0,
  "metadata": {
    "colab": {
      "name": "Ryan_Mecking_Song_predictor.ipynb",
      "provenance": []
    },
    "kernelspec": {
      "name": "python3",
      "display_name": "Python 3"
    },
    "accelerator": "GPU"
  },
  "cells": [
    {
      "cell_type": "code",
      "metadata": {
        "id": "Lm8kv81t3c93",
        "colab_type": "code",
        "outputId": "63cd12a9-143c-47fe-a816-d95126abcb39",
        "colab": {
          "base_uri": "https://localhost:8080/",
          "height": 34
        }
      },
      "source": [
        "# Loaded in the data. Data is published via google docs. Cell should run.\n",
        "\n",
        "import pandas as pd\n",
        "import numpy as np\n",
        "\n",
        "# Data is broken down per decade \n",
        "dataset00 = pd.read_csv(r'https://docs.google.com/spreadsheets/d/e/2PACX-1vSFqeUFGZwH52bU-IepHfp2xRD3A0asGpGJRd3jaJYA4PwAmUju-5CmnepyBAvc64rY6gXwn2nUQG0e/pub?output=csv')\n",
        "dataset10 = pd.read_csv(r'https://docs.google.com/spreadsheets/d/e/2PACX-1vR-Sc2ksuQCaZmH_Hy90bhCCP13AOVlBFAMRNwVYgEcT3RO-0UimxD9Loi5KVDOnurxvBoteW-whOWp/pub?output=csv')\n",
        "dataset60 = pd.read_csv(r'https://docs.google.com/spreadsheets/d/e/2PACX-1vTPxGmOZVXdAYr2D5_ml_3YRXorUVarxlTQ4bYzews8YXWSY8ArdFAyxffvm8gmI-FxMr_8vJtCK_Y-/pub?output=csv')\n",
        "dataset70 = pd.read_csv(r'https://docs.google.com/spreadsheets/d/e/2PACX-1vTINdcUA6cKJyHJS76NrcXPLbX_jFjt5S4pNIdAKw-4GF1w8ngBeorLrAPEYxSqgnxE9MybmzQ9NYXK/pub?output=csv')\n",
        "dataset80 = pd.read_csv(r'https://docs.google.com/spreadsheets/d/e/2PACX-1vR5LNcY8trkxu8vIJHf8Ha0vDO9Xz2k2M7UCdEGhaJxz9vnB_SqET9fy88icZwIjPKeK8USi05_0zii/pub?output=csv')\n",
        "dataset90 = pd.read_csv(r'https://docs.google.com/spreadsheets/d/e/2PACX-1vRFUiB5RX_2qMQuZSuP-u_wQvjqlaSOTeKY4uGjwfeoGTgZUCesq46xlYjLqi4vmN-VQ4zK0Zm-jXmw/pub?output=csv')                                               \n",
        "dataset00.shape, dataset10.shape, dataset60.shape, dataset70.shape, dataset80.shape, dataset90.shape"
      ],
      "execution_count": 14,
      "outputs": [
        {
          "output_type": "execute_result",
          "data": {
            "text/plain": [
              "((5872, 19), (6398, 19), (8642, 19), (7766, 19), (6908, 19), (5520, 19))"
            ]
          },
          "metadata": {
            "tags": []
          },
          "execution_count": 14
        }
      ]
    },
    {
      "cell_type": "code",
      "metadata": {
        "id": "j4fwaE9x3c19",
        "colab_type": "code",
        "outputId": "33480d89-cacd-46ee-a3aa-e4bf6d8cd304",
        "colab": {
          "base_uri": "https://localhost:8080/",
          "height": 34
        }
      },
      "source": [
        "# Full frames of all dummy data\n",
        "frames = [dataset60, dataset70, dataset80, dataset90, dataset00, dataset10]\n",
        "# Small sample to test data\n",
        "# frames = [dataset90]\n",
        "df = pd.concat(frames, ignore_index=True)\n",
        "df = df.drop_duplicates(\"uri\")\n",
        "df.shape"
      ],
      "execution_count": 15,
      "outputs": [
        {
          "output_type": "execute_result",
          "data": {
            "text/plain": [
              "(40560, 19)"
            ]
          },
          "metadata": {
            "tags": []
          },
          "execution_count": 15
        }
      ]
    },
    {
      "cell_type": "code",
      "metadata": {
        "id": "6Bb-9V2V7ndx",
        "colab_type": "code",
        "outputId": "7d008af0-8980-4344-a218-eb337e951063",
        "colab": {
          "base_uri": "https://localhost:8080/",
          "height": 235
        }
      },
      "source": [
        "# Cleaning Data\n",
        "df_trim = df.drop(['artist', 'track'], axis=1)\n",
        "# df = df.drop(['uri'], axis=1)\n",
        "print (df_trim.shape)\n",
        "df_trim.head()"
      ],
      "execution_count": 16,
      "outputs": [
        {
          "output_type": "stream",
          "text": [
            "(40560, 17)\n"
          ],
          "name": "stdout"
        },
        {
          "output_type": "execute_result",
          "data": {
            "text/html": [
              "<div>\n",
              "<style scoped>\n",
              "    .dataframe tbody tr th:only-of-type {\n",
              "        vertical-align: middle;\n",
              "    }\n",
              "\n",
              "    .dataframe tbody tr th {\n",
              "        vertical-align: top;\n",
              "    }\n",
              "\n",
              "    .dataframe thead th {\n",
              "        text-align: right;\n",
              "    }\n",
              "</style>\n",
              "<table border=\"1\" class=\"dataframe\">\n",
              "  <thead>\n",
              "    <tr style=\"text-align: right;\">\n",
              "      <th></th>\n",
              "      <th>uri</th>\n",
              "      <th>danceability</th>\n",
              "      <th>energy</th>\n",
              "      <th>key</th>\n",
              "      <th>loudness</th>\n",
              "      <th>mode</th>\n",
              "      <th>speechiness</th>\n",
              "      <th>acousticness</th>\n",
              "      <th>instrumentalness</th>\n",
              "      <th>liveness</th>\n",
              "      <th>valence</th>\n",
              "      <th>tempo</th>\n",
              "      <th>duration_ms</th>\n",
              "      <th>time_signature</th>\n",
              "      <th>chorus_hit</th>\n",
              "      <th>sections</th>\n",
              "      <th>target</th>\n",
              "    </tr>\n",
              "  </thead>\n",
              "  <tbody>\n",
              "    <tr>\n",
              "      <th>0</th>\n",
              "      <td>spotify:track:1dtKN6wwlolkM8XZy2y9C1</td>\n",
              "      <td>0.417</td>\n",
              "      <td>0.620</td>\n",
              "      <td>3</td>\n",
              "      <td>-7.727</td>\n",
              "      <td>1</td>\n",
              "      <td>0.0403</td>\n",
              "      <td>0.490</td>\n",
              "      <td>0.000000</td>\n",
              "      <td>0.0779</td>\n",
              "      <td>0.845</td>\n",
              "      <td>185.655</td>\n",
              "      <td>173533</td>\n",
              "      <td>3</td>\n",
              "      <td>32.94975</td>\n",
              "      <td>9</td>\n",
              "      <td>1</td>\n",
              "    </tr>\n",
              "    <tr>\n",
              "      <th>1</th>\n",
              "      <td>spotify:track:5hjsmSnUefdUqzsDogisiX</td>\n",
              "      <td>0.498</td>\n",
              "      <td>0.505</td>\n",
              "      <td>3</td>\n",
              "      <td>-12.475</td>\n",
              "      <td>1</td>\n",
              "      <td>0.0337</td>\n",
              "      <td>0.018</td>\n",
              "      <td>0.107000</td>\n",
              "      <td>0.1760</td>\n",
              "      <td>0.797</td>\n",
              "      <td>101.801</td>\n",
              "      <td>213613</td>\n",
              "      <td>4</td>\n",
              "      <td>48.82510</td>\n",
              "      <td>10</td>\n",
              "      <td>0</td>\n",
              "    </tr>\n",
              "    <tr>\n",
              "      <th>2</th>\n",
              "      <td>spotify:track:6uk8tI6pwxxdVTNlNOJeJh</td>\n",
              "      <td>0.657</td>\n",
              "      <td>0.649</td>\n",
              "      <td>5</td>\n",
              "      <td>-13.392</td>\n",
              "      <td>1</td>\n",
              "      <td>0.0380</td>\n",
              "      <td>0.846</td>\n",
              "      <td>0.000004</td>\n",
              "      <td>0.1190</td>\n",
              "      <td>0.908</td>\n",
              "      <td>115.940</td>\n",
              "      <td>223960</td>\n",
              "      <td>4</td>\n",
              "      <td>37.22663</td>\n",
              "      <td>12</td>\n",
              "      <td>0</td>\n",
              "    </tr>\n",
              "    <tr>\n",
              "      <th>3</th>\n",
              "      <td>spotify:track:7aNjMJ05FvUXACPWZ7yJmv</td>\n",
              "      <td>0.590</td>\n",
              "      <td>0.545</td>\n",
              "      <td>7</td>\n",
              "      <td>-12.058</td>\n",
              "      <td>0</td>\n",
              "      <td>0.1040</td>\n",
              "      <td>0.706</td>\n",
              "      <td>0.024600</td>\n",
              "      <td>0.0610</td>\n",
              "      <td>0.967</td>\n",
              "      <td>105.592</td>\n",
              "      <td>157907</td>\n",
              "      <td>4</td>\n",
              "      <td>24.75484</td>\n",
              "      <td>8</td>\n",
              "      <td>0</td>\n",
              "    </tr>\n",
              "    <tr>\n",
              "      <th>4</th>\n",
              "      <td>spotify:track:1rQ0clvgkzWr001POOPJWx</td>\n",
              "      <td>0.515</td>\n",
              "      <td>0.765</td>\n",
              "      <td>11</td>\n",
              "      <td>-3.515</td>\n",
              "      <td>0</td>\n",
              "      <td>0.1240</td>\n",
              "      <td>0.857</td>\n",
              "      <td>0.000872</td>\n",
              "      <td>0.2130</td>\n",
              "      <td>0.906</td>\n",
              "      <td>114.617</td>\n",
              "      <td>245600</td>\n",
              "      <td>4</td>\n",
              "      <td>21.79874</td>\n",
              "      <td>14</td>\n",
              "      <td>0</td>\n",
              "    </tr>\n",
              "  </tbody>\n",
              "</table>\n",
              "</div>"
            ],
            "text/plain": [
              "                                    uri  danceability  ...  sections  target\n",
              "0  spotify:track:1dtKN6wwlolkM8XZy2y9C1         0.417  ...         9       1\n",
              "1  spotify:track:5hjsmSnUefdUqzsDogisiX         0.498  ...        10       0\n",
              "2  spotify:track:6uk8tI6pwxxdVTNlNOJeJh         0.657  ...        12       0\n",
              "3  spotify:track:7aNjMJ05FvUXACPWZ7yJmv         0.590  ...         8       0\n",
              "4  spotify:track:1rQ0clvgkzWr001POOPJWx         0.515  ...        14       0\n",
              "\n",
              "[5 rows x 17 columns]"
            ]
          },
          "metadata": {
            "tags": []
          },
          "execution_count": 16
        }
      ]
    },
    {
      "cell_type": "code",
      "metadata": {
        "id": "LmaCSiKzMiiu",
        "colab_type": "code",
        "colab": {}
      },
      "source": [
        "# Creating an Target/ Removing 'uri' and 'target' for training purposes \n",
        "X_train = df_trim.drop(['target', 'uri'], axis=1)\n",
        "y_train = df_trim['target']"
      ],
      "execution_count": 0,
      "outputs": []
    },
    {
      "cell_type": "code",
      "metadata": {
        "id": "AxNrRfPAPkLv",
        "colab_type": "code",
        "colab": {}
      },
      "source": [
        "# Standardizing and Scaling Data\n",
        "from sklearn.preprocessing import StandardScaler\n",
        "scaler = StandardScaler()\n",
        "X_train = scaler.fit_transform(X_train)"
      ],
      "execution_count": 0,
      "outputs": []
    },
    {
      "cell_type": "code",
      "metadata": {
        "id": "qxW45n1OMDqm",
        "colab_type": "code",
        "colab": {
          "base_uri": "https://localhost:8080/",
          "height": 34
        },
        "outputId": "d36890af-fc0c-466f-cd0a-1dbf30f02c70"
      },
      "source": [
        "# Test Train Split for Regression or Supervised Learning.\n",
        "from sklearn.model_selection import train_test_split\n",
        "seed = 42\n",
        "test_size = 0.33\n",
        "X_train_reg, X_test_reg, y_train_reg, y_test_reg = train_test_split(X_train, y_train, test_size=test_size, random_state=seed)\n",
        "X_train_reg.shape, X_test_reg.shape,  y_train_reg.shape, y_test_reg.shape"
      ],
      "execution_count": 25,
      "outputs": [
        {
          "output_type": "execute_result",
          "data": {
            "text/plain": [
              "((27175, 15), (13385, 15), (27175,), (13385,))"
            ]
          },
          "metadata": {
            "tags": []
          },
          "execution_count": 25
        }
      ]
    },
    {
      "cell_type": "markdown",
      "metadata": {
        "id": "G6po_SWuwd7A",
        "colab_type": "text"
      },
      "source": [
        "###LinearRegression"
      ]
    },
    {
      "cell_type": "code",
      "metadata": {
        "id": "O7LjSujnXdq5",
        "colab_type": "code",
        "colab": {
          "base_uri": "https://localhost:8080/",
          "height": 34
        },
        "outputId": "128dd307-8632-499e-ffe0-b0aa80bd9753"
      },
      "source": [
        "# Linear Regrssion model for baseline \n",
        "from sklearn.linear_model import LinearRegression\n",
        "reg = LinearRegression().fit(X_train_reg, y_train_reg)\n",
        "reg.score(X_test_reg, y_test_reg)"
      ],
      "execution_count": 26,
      "outputs": [
        {
          "output_type": "execute_result",
          "data": {
            "text/plain": [
              "0.25672236500054646"
            ]
          },
          "metadata": {
            "tags": []
          },
          "execution_count": 26
        }
      ]
    },
    {
      "cell_type": "code",
      "metadata": {
        "id": "LRNOKb5HNho9",
        "colab_type": "code",
        "colab": {
          "base_uri": "https://localhost:8080/",
          "height": 34
        },
        "outputId": "1ce8ba40-b615-4a75-a380-59296b6fbc45"
      },
      "source": [
        "from sklearn.metrics import accuracy_score\n",
        "\n",
        "y_pred = reg.predict(X_test_reg)\n",
        "predictions = [round(value) for value in y_pred]\n",
        "\n",
        "# evaluate predictions\n",
        "accuracy = accuracy_score(y_test_reg, predictions)\n",
        "print(\"Accuracy: %.2f%%\" % (accuracy * 100.0))"
      ],
      "execution_count": 27,
      "outputs": [
        {
          "output_type": "stream",
          "text": [
            "Accuracy: 72.16%\n"
          ],
          "name": "stdout"
        }
      ]
    },
    {
      "cell_type": "markdown",
      "metadata": {
        "id": "SOmcrpfIw6q-",
        "colab_type": "text"
      },
      "source": [
        "###NearestNeighbors"
      ]
    },
    {
      "cell_type": "code",
      "metadata": {
        "id": "y2iAyV7HH5XX",
        "colab_type": "code",
        "colab": {}
      },
      "source": [
        "# Creating an Target/ Removing 'uri' and  for training purposes \n",
        "X_train = df_trim.drop(['uri'], axis=1)\n",
        "y_train = df_trim['uri']\n",
        "\n",
        "X_train = scaler.fit_transform(X_train)"
      ],
      "execution_count": 0,
      "outputs": []
    },
    {
      "cell_type": "code",
      "metadata": {
        "id": "wSquhetVNXUy",
        "colab_type": "code",
        "colab": {}
      },
      "source": [
        "from sklearn.neighbors import NearestNeighbors\n",
        "import numpy as np\n",
        "#training on nearestneighbors\n",
        "nbrs = NearestNeighbors(n_neighbors=10).fit(X_train)"
      ],
      "execution_count": 0,
      "outputs": []
    },
    {
      "cell_type": "code",
      "metadata": {
        "id": "eskCI9Ai1jvg",
        "colab_type": "code",
        "outputId": "b9825bef-4c14-4afd-fce7-67922ffd14e8",
        "colab": {
          "base_uri": "https://localhost:8080/",
          "height": 52
        }
      },
      "source": [
        "nbrs.kneighbors([[0.417,0.620,3,-7.727,1,0.0403,0.490,0.000000,0.0779,0.845,185.655,173533,3,32.94975,9,1]], return_distance=False)"
      ],
      "execution_count": 31,
      "outputs": [
        {
          "output_type": "execute_result",
          "data": {
            "text/plain": [
              "array([[32740, 32011, 28922, 12908, 10545, 12821,  1414, 17808, 11262,\n",
              "        32341]])"
            ]
          },
          "metadata": {
            "tags": []
          },
          "execution_count": 31
        }
      ]
    },
    {
      "cell_type": "markdown",
      "metadata": {
        "id": "y-5bL3zRwL4U",
        "colab_type": "text"
      },
      "source": [
        "###KMeans"
      ]
    },
    {
      "cell_type": "markdown",
      "metadata": {
        "id": "Zomw653nxp9W",
        "colab_type": "text"
      },
      "source": [
        "####PCA"
      ]
    },
    {
      "cell_type": "markdown",
      "metadata": {
        "id": "TJzhHTCfHtTX",
        "colab_type": "text"
      },
      "source": [
        "PCA for the data."
      ]
    },
    {
      "cell_type": "code",
      "metadata": {
        "id": "fmBOjAacxBJG",
        "colab_type": "code",
        "colab": {}
      },
      "source": [
        "from sklearn.decomposition import PCA\n",
        "\n",
        "# Apply PCA to the data\n",
        "pca = PCA(.9)\n",
        "pca_features = pca.fit_transform(X_train)"
      ],
      "execution_count": 0,
      "outputs": []
    },
    {
      "cell_type": "markdown",
      "metadata": {
        "id": "ebi1JlmkxuOP",
        "colab_type": "text"
      },
      "source": [
        "####Fit KMeans"
      ]
    },
    {
      "cell_type": "code",
      "metadata": {
        "id": "3DaOLtb1TLH4",
        "colab_type": "code",
        "outputId": "714464d8-3f14-4bbb-c227-ac1a7acd9720",
        "colab": {
          "base_uri": "https://localhost:8080/",
          "height": 294
        }
      },
      "source": [
        "import matplotlib.pyplot as plt\n",
        "from sklearn.cluster import KMeans\n",
        "\n",
        "# Finding optimal clusters\n",
        "sum_of_squared_distances = []\n",
        "K = range(1,40)\n",
        "for k in K:\n",
        "    km = KMeans(n_clusters=k)\n",
        "    km = km.fit(pca_features)\n",
        "    sum_of_squared_distances.append(km.inertia_)\n",
        "   \n",
        "plt.plot(K, sum_of_squared_distances, 'bx-')\n",
        "plt.xlabel('k')\n",
        "plt.ylabel('Sum_of_squared_distances')\n",
        "plt.title('Elbow Method For Optimal k')\n",
        "plt.show()"
      ],
      "execution_count": 37,
      "outputs": [
        {
          "output_type": "display_data",
          "data": {
            "image/png": "[encoded data removed]",
            "text/plain": [
              "<Figure size 432x288 with 1 Axes>"
            ]
          },
          "metadata": {
            "tags": [],
            "needs_background": "light"
          }
        }
      ]
    },
    {
      "cell_type": "code",
      "metadata": {
        "id": "DbgGBhWrqkZ4",
        "colab_type": "code",
        "outputId": "c63b1dcf-595e-46e5-fbe2-5ddd66fa7b6b",
        "colab": {
          "base_uri": "https://localhost:8080/",
          "height": 34
        }
      },
      "source": [
        "# Setting up KMeans\n",
        "kmeans = KMeans(n_clusters=10, random_state=42)\n",
        "kmeans.fit(X_train)\n",
        "labels = kmeans.labels_\n",
        "\n",
        "print(labels)"
      ],
      "execution_count": 38,
      "outputs": [
        {
          "output_type": "stream",
          "text": [
            "[9 3 5 ... 1 2 2]\n"
          ],
          "name": "stdout"
        }
      ]
    },
    {
      "cell_type": "code",
      "metadata": {
        "id": "Y1LVvDfvrQIt",
        "colab_type": "code",
        "outputId": "b7c5a643-c095-4839-94c3-fe669a1c833d",
        "colab": {
          "base_uri": "https://localhost:8080/",
          "height": 334
        }
      },
      "source": [
        "# Add our new labels to the dataframe (from unit 134)\n",
        "new_series = pd.Series(labels)\n",
        "df['clusters'] = new_series.values\n",
        "\n",
        "df.head()"
      ],
      "execution_count": 39,
      "outputs": [
        {
          "output_type": "execute_result",
          "data": {
            "text/html": [
              "<div>\n",
              "<style scoped>\n",
              "    .dataframe tbody tr th:only-of-type {\n",
              "        vertical-align: middle;\n",
              "    }\n",
              "\n",
              "    .dataframe tbody tr th {\n",
              "        vertical-align: top;\n",
              "    }\n",
              "\n",
              "    .dataframe thead th {\n",
              "        text-align: right;\n",
              "    }\n",
              "</style>\n",
              "<table border=\"1\" class=\"dataframe\">\n",
              "  <thead>\n",
              "    <tr style=\"text-align: right;\">\n",
              "      <th></th>\n",
              "      <th>track</th>\n",
              "      <th>artist</th>\n",
              "      <th>uri</th>\n",
              "      <th>danceability</th>\n",
              "      <th>energy</th>\n",
              "      <th>key</th>\n",
              "      <th>loudness</th>\n",
              "      <th>mode</th>\n",
              "      <th>speechiness</th>\n",
              "      <th>acousticness</th>\n",
              "      <th>instrumentalness</th>\n",
              "      <th>liveness</th>\n",
              "      <th>valence</th>\n",
              "      <th>tempo</th>\n",
              "      <th>duration_ms</th>\n",
              "      <th>time_signature</th>\n",
              "      <th>chorus_hit</th>\n",
              "      <th>sections</th>\n",
              "      <th>target</th>\n",
              "      <th>clusters</th>\n",
              "    </tr>\n",
              "  </thead>\n",
              "  <tbody>\n",
              "    <tr>\n",
              "      <th>0</th>\n",
              "      <td>Jealous Kind Of Fella</td>\n",
              "      <td>Garland Green</td>\n",
              "      <td>spotify:track:1dtKN6wwlolkM8XZy2y9C1</td>\n",
              "      <td>0.417</td>\n",
              "      <td>0.620</td>\n",
              "      <td>3</td>\n",
              "      <td>-7.727</td>\n",
              "      <td>1</td>\n",
              "      <td>0.0403</td>\n",
              "      <td>0.490</td>\n",
              "      <td>0.000000</td>\n",
              "      <td>0.0779</td>\n",
              "      <td>0.845</td>\n",
              "      <td>185.655</td>\n",
              "      <td>173533</td>\n",
              "      <td>3</td>\n",
              "      <td>32.94975</td>\n",
              "      <td>9</td>\n",
              "      <td>1</td>\n",
              "      <td>9</td>\n",
              "    </tr>\n",
              "    <tr>\n",
              "      <th>1</th>\n",
              "      <td>Initials B.B.</td>\n",
              "      <td>Serge Gainsbourg</td>\n",
              "      <td>spotify:track:5hjsmSnUefdUqzsDogisiX</td>\n",
              "      <td>0.498</td>\n",
              "      <td>0.505</td>\n",
              "      <td>3</td>\n",
              "      <td>-12.475</td>\n",
              "      <td>1</td>\n",
              "      <td>0.0337</td>\n",
              "      <td>0.018</td>\n",
              "      <td>0.107000</td>\n",
              "      <td>0.1760</td>\n",
              "      <td>0.797</td>\n",
              "      <td>101.801</td>\n",
              "      <td>213613</td>\n",
              "      <td>4</td>\n",
              "      <td>48.82510</td>\n",
              "      <td>10</td>\n",
              "      <td>0</td>\n",
              "      <td>3</td>\n",
              "    </tr>\n",
              "    <tr>\n",
              "      <th>2</th>\n",
              "      <td>Melody Twist</td>\n",
              "      <td>Lord Melody</td>\n",
              "      <td>spotify:track:6uk8tI6pwxxdVTNlNOJeJh</td>\n",
              "      <td>0.657</td>\n",
              "      <td>0.649</td>\n",
              "      <td>5</td>\n",
              "      <td>-13.392</td>\n",
              "      <td>1</td>\n",
              "      <td>0.0380</td>\n",
              "      <td>0.846</td>\n",
              "      <td>0.000004</td>\n",
              "      <td>0.1190</td>\n",
              "      <td>0.908</td>\n",
              "      <td>115.940</td>\n",
              "      <td>223960</td>\n",
              "      <td>4</td>\n",
              "      <td>37.22663</td>\n",
              "      <td>12</td>\n",
              "      <td>0</td>\n",
              "      <td>5</td>\n",
              "    </tr>\n",
              "    <tr>\n",
              "      <th>3</th>\n",
              "      <td>Mi Bomba Sonó</td>\n",
              "      <td>Celia Cruz</td>\n",
              "      <td>spotify:track:7aNjMJ05FvUXACPWZ7yJmv</td>\n",
              "      <td>0.590</td>\n",
              "      <td>0.545</td>\n",
              "      <td>7</td>\n",
              "      <td>-12.058</td>\n",
              "      <td>0</td>\n",
              "      <td>0.1040</td>\n",
              "      <td>0.706</td>\n",
              "      <td>0.024600</td>\n",
              "      <td>0.0610</td>\n",
              "      <td>0.967</td>\n",
              "      <td>105.592</td>\n",
              "      <td>157907</td>\n",
              "      <td>4</td>\n",
              "      <td>24.75484</td>\n",
              "      <td>8</td>\n",
              "      <td>0</td>\n",
              "      <td>0</td>\n",
              "    </tr>\n",
              "    <tr>\n",
              "      <th>4</th>\n",
              "      <td>Uravu Solla</td>\n",
              "      <td>P. Susheela</td>\n",
              "      <td>spotify:track:1rQ0clvgkzWr001POOPJWx</td>\n",
              "      <td>0.515</td>\n",
              "      <td>0.765</td>\n",
              "      <td>11</td>\n",
              "      <td>-3.515</td>\n",
              "      <td>0</td>\n",
              "      <td>0.1240</td>\n",
              "      <td>0.857</td>\n",
              "      <td>0.000872</td>\n",
              "      <td>0.2130</td>\n",
              "      <td>0.906</td>\n",
              "      <td>114.617</td>\n",
              "      <td>245600</td>\n",
              "      <td>4</td>\n",
              "      <td>21.79874</td>\n",
              "      <td>14</td>\n",
              "      <td>0</td>\n",
              "      <td>0</td>\n",
              "    </tr>\n",
              "  </tbody>\n",
              "</table>\n",
              "</div>"
            ],
            "text/plain": [
              "                   track            artist  ... target  clusters\n",
              "0  Jealous Kind Of Fella     Garland Green  ...      1         9\n",
              "1          Initials B.B.  Serge Gainsbourg  ...      0         3\n",
              "2           Melody Twist       Lord Melody  ...      0         5\n",
              "3          Mi Bomba Sonó        Celia Cruz  ...      0         0\n",
              "4            Uravu Solla       P. Susheela  ...      0         0\n",
              "\n",
              "[5 rows x 20 columns]"
            ]
          },
          "metadata": {
            "tags": []
          },
          "execution_count": 39
        }
      ]
    },
    {
      "cell_type": "code",
      "metadata": {
        "id": "8CI5g81eEx-3",
        "colab_type": "code",
        "outputId": "7d94e7ba-1d97-4771-947d-bf81513b387c",
        "colab": {
          "base_uri": "https://localhost:8080/",
          "height": 34
        }
      },
      "source": [
        "# Returned an array of the labels\n",
        "kmeans.predict(X_train)"
      ],
      "execution_count": 40,
      "outputs": [
        {
          "output_type": "execute_result",
          "data": {
            "text/plain": [
              "array([9, 3, 5, ..., 1, 2, 2], dtype=int32)"
            ]
          },
          "metadata": {
            "tags": []
          },
          "execution_count": 40
        }
      ]
    },
    {
      "cell_type": "markdown",
      "metadata": {
        "id": "1-B8sza7FMzI",
        "colab_type": "text"
      },
      "source": [
        "####KNN with cluters"
      ]
    },
    {
      "cell_type": "code",
      "metadata": {
        "id": "aDPcbdhDFaC-",
        "colab_type": "code",
        "outputId": "2baa7021-724d-445c-a895-24e885311f0e",
        "colab": {
          "base_uri": "https://localhost:8080/",
          "height": 283
        }
      },
      "source": [
        "X_train = df.drop(['uri', 'track', 'artist'], axis=1)\n",
        "y_train = df['uri']\n",
        "print(X_train)\n",
        "X_train.shape"
      ],
      "execution_count": 41,
      "outputs": [
        {
          "output_type": "stream",
          "text": [
            "       danceability  energy  key  ...  sections  target  clusters\n",
            "0             0.417   0.620    3  ...         9       1         9\n",
            "1             0.498   0.505    3  ...        10       0         3\n",
            "2             0.657   0.649    5  ...        12       0         5\n",
            "3             0.590   0.545    7  ...         8       0         0\n",
            "4             0.515   0.765   11  ...        14       0         0\n",
            "...             ...     ...  ...  ...       ...     ...       ...\n",
            "41101         0.172   0.358    9  ...         7       0         2\n",
            "41102         0.910   0.366    1  ...         8       1         3\n",
            "41103         0.719   0.804   10  ...         7       1         1\n",
            "41104         0.600   0.177    7  ...        14       0         2\n",
            "41105         0.121   0.123    4  ...        15       0         2\n",
            "\n",
            "[40560 rows x 17 columns]\n"
          ],
          "name": "stdout"
        },
        {
          "output_type": "execute_result",
          "data": {
            "text/plain": [
              "(40560, 17)"
            ]
          },
          "metadata": {
            "tags": []
          },
          "execution_count": 41
        }
      ]
    },
    {
      "cell_type": "code",
      "metadata": {
        "id": "XJiARvYSfNFR",
        "colab_type": "code",
        "colab": {}
      },
      "source": [
        "from sklearn.preprocessing import StandardScaler\n",
        "scaler = StandardScaler()\n",
        "X_train = scaler.fit_transform(X_train)"
      ],
      "execution_count": 0,
      "outputs": []
    },
    {
      "cell_type": "code",
      "metadata": {
        "id": "BJlTKqBmkaKt",
        "colab_type": "code",
        "outputId": "a9fef000-21b0-46a2-ea1e-f39584fb4c9e",
        "colab": {
          "base_uri": "https://localhost:8080/",
          "height": 87
        }
      },
      "source": [
        "X_train[0]"
      ],
      "execution_count": 43,
      "outputs": [
        {
          "output_type": "execute_result",
          "data": {
            "text/plain": [
              "array([-0.68458722,  0.16338245, -0.62648161,  0.47319711,  0.66558662,\n",
              "       -0.37929207,  0.36506163, -0.51229509, -0.71499182,  1.13401311,\n",
              "        2.27753617, -0.51199837, -2.10350062, -0.37725205, -0.30050861,\n",
              "        1.01305363,  1.78735012])"
            ]
          },
          "metadata": {
            "tags": []
          },
          "execution_count": 43
        }
      ]
    },
    {
      "cell_type": "code",
      "metadata": {
        "id": "5c23XjGQFMHo",
        "colab_type": "code",
        "colab": {}
      },
      "source": [
        "from sklearn.neighbors import NearestNeighbors\n",
        "\n",
        "#training on nearestneighbors\n",
        "nn = NearestNeighbors(n_neighbors=10).fit(X_train)"
      ],
      "execution_count": 0,
      "outputs": []
    },
    {
      "cell_type": "code",
      "metadata": {
        "id": "43_fwaBuFoV-",
        "colab_type": "code",
        "outputId": "dbadae5d-071a-4858-96cd-d96dab108e21",
        "colab": {
          "base_uri": "https://localhost:8080/",
          "height": 52
        }
      },
      "source": [
        "#array([[    0, 16075, 26451, 15614, 16357, 10697, 10844, 23785, 15773, 20874]])\n",
        "nn.kneighbors([[-0.68458722,  0.16338245, -0.62648161,  0.47319711,  0.66558662,\n",
        "       -0.37929207,  0.36506163, -0.51229509, -0.71499182,  1.13401311,\n",
        "        2.27753617, -0.51199837, -2.10350062, -0.37725205, -0.30050861,\n",
        "        1.01305363,  0.9636637 ]], return_distance=False)"
      ],
      "execution_count": 45,
      "outputs": [
        {
          "output_type": "execute_result",
          "data": {
            "text/plain": [
              "array([[    0,  1499,  7963,  4754,   592,  1999,  8468,  4536, 22110,\n",
              "          219]])"
            ]
          },
          "metadata": {
            "tags": []
          },
          "execution_count": 45
        }
      ]
    },
    {
      "cell_type": "code",
      "metadata": {
        "id": "PzOroWZZNBpV",
        "colab_type": "code",
        "colab": {}
      },
      "source": [
        "test = [y_train[0], y_train[1499], y_train[7963], \n",
        "        y_train[592], y_train[4754]]"
      ],
      "execution_count": 0,
      "outputs": []
    },
    {
      "cell_type": "code",
      "metadata": {
        "id": "HyMdNwu1J75Z",
        "colab_type": "code",
        "outputId": "455726d3-5944-49fe-c390-dc69b1be0e06",
        "colab": {
          "base_uri": "https://localhost:8080/",
          "height": 351
        }
      },
      "source": [
        "df[df['uri'].isin(test)].reindex([0,1499,7963,592,4754])"
      ],
      "execution_count": 47,
      "outputs": [
        {
          "output_type": "execute_result",
          "data": {
            "text/html": [
              "<div>\n",
              "<style scoped>\n",
              "    .dataframe tbody tr th:only-of-type {\n",
              "        vertical-align: middle;\n",
              "    }\n",
              "\n",
              "    .dataframe tbody tr th {\n",
              "        vertical-align: top;\n",
              "    }\n",
              "\n",
              "    .dataframe thead th {\n",
              "        text-align: right;\n",
              "    }\n",
              "</style>\n",
              "<table border=\"1\" class=\"dataframe\">\n",
              "  <thead>\n",
              "    <tr style=\"text-align: right;\">\n",
              "      <th></th>\n",
              "      <th>track</th>\n",
              "      <th>artist</th>\n",
              "      <th>uri</th>\n",
              "      <th>danceability</th>\n",
              "      <th>energy</th>\n",
              "      <th>key</th>\n",
              "      <th>loudness</th>\n",
              "      <th>mode</th>\n",
              "      <th>speechiness</th>\n",
              "      <th>acousticness</th>\n",
              "      <th>instrumentalness</th>\n",
              "      <th>liveness</th>\n",
              "      <th>valence</th>\n",
              "      <th>tempo</th>\n",
              "      <th>duration_ms</th>\n",
              "      <th>time_signature</th>\n",
              "      <th>chorus_hit</th>\n",
              "      <th>sections</th>\n",
              "      <th>target</th>\n",
              "      <th>clusters</th>\n",
              "    </tr>\n",
              "  </thead>\n",
              "  <tbody>\n",
              "    <tr>\n",
              "      <th>0</th>\n",
              "      <td>Jealous Kind Of Fella</td>\n",
              "      <td>Garland Green</td>\n",
              "      <td>spotify:track:1dtKN6wwlolkM8XZy2y9C1</td>\n",
              "      <td>0.417</td>\n",
              "      <td>0.620</td>\n",
              "      <td>3</td>\n",
              "      <td>-7.727</td>\n",
              "      <td>1</td>\n",
              "      <td>0.0403</td>\n",
              "      <td>0.490</td>\n",
              "      <td>0.000000</td>\n",
              "      <td>0.0779</td>\n",
              "      <td>0.845</td>\n",
              "      <td>185.655</td>\n",
              "      <td>173533</td>\n",
              "      <td>3</td>\n",
              "      <td>32.94975</td>\n",
              "      <td>9</td>\n",
              "      <td>1</td>\n",
              "      <td>9</td>\n",
              "    </tr>\n",
              "    <tr>\n",
              "      <th>1499</th>\n",
              "      <td>What Now</td>\n",
              "      <td>Gene Chandler</td>\n",
              "      <td>spotify:track:2Pjiynk3ppiVHWXzoL05tV</td>\n",
              "      <td>0.401</td>\n",
              "      <td>0.606</td>\n",
              "      <td>5</td>\n",
              "      <td>-6.465</td>\n",
              "      <td>1</td>\n",
              "      <td>0.0651</td>\n",
              "      <td>0.619</td>\n",
              "      <td>0.000000</td>\n",
              "      <td>0.1040</td>\n",
              "      <td>0.687</td>\n",
              "      <td>185.890</td>\n",
              "      <td>170627</td>\n",
              "      <td>3</td>\n",
              "      <td>31.74986</td>\n",
              "      <td>9</td>\n",
              "      <td>1</td>\n",
              "      <td>9</td>\n",
              "    </tr>\n",
              "    <tr>\n",
              "      <th>7963</th>\n",
              "      <td>Death Rides a Horse - Version 2</td>\n",
              "      <td>Ennio Morricone</td>\n",
              "      <td>spotify:track:1FNsxBgjTsajTmh3FkliOi</td>\n",
              "      <td>0.630</td>\n",
              "      <td>0.842</td>\n",
              "      <td>2</td>\n",
              "      <td>-3.715</td>\n",
              "      <td>1</td>\n",
              "      <td>0.0290</td>\n",
              "      <td>0.599</td>\n",
              "      <td>0.000003</td>\n",
              "      <td>0.1180</td>\n",
              "      <td>0.539</td>\n",
              "      <td>93.892</td>\n",
              "      <td>122867</td>\n",
              "      <td>4</td>\n",
              "      <td>71.94053</td>\n",
              "      <td>4</td>\n",
              "      <td>0</td>\n",
              "      <td>3</td>\n",
              "    </tr>\n",
              "    <tr>\n",
              "      <th>592</th>\n",
              "      <td>Dirty Man</td>\n",
              "      <td>Laura Lee</td>\n",
              "      <td>spotify:track:0762EAuTa9SF0BzPEqbL7w</td>\n",
              "      <td>0.530</td>\n",
              "      <td>0.465</td>\n",
              "      <td>2</td>\n",
              "      <td>-6.231</td>\n",
              "      <td>1</td>\n",
              "      <td>0.0331</td>\n",
              "      <td>0.316</td>\n",
              "      <td>0.000024</td>\n",
              "      <td>0.0894</td>\n",
              "      <td>0.676</td>\n",
              "      <td>167.194</td>\n",
              "      <td>175640</td>\n",
              "      <td>3</td>\n",
              "      <td>30.07743</td>\n",
              "      <td>8</td>\n",
              "      <td>1</td>\n",
              "      <td>3</td>\n",
              "    </tr>\n",
              "    <tr>\n",
              "      <th>4754</th>\n",
              "      <td>Some Enchanted Evening</td>\n",
              "      <td>Jay &amp; The Americans</td>\n",
              "      <td>spotify:track:4S4CZX1QAdADmcnikhSEw0</td>\n",
              "      <td>0.448</td>\n",
              "      <td>0.481</td>\n",
              "      <td>5</td>\n",
              "      <td>-10.727</td>\n",
              "      <td>1</td>\n",
              "      <td>0.0311</td>\n",
              "      <td>0.507</td>\n",
              "      <td>0.000028</td>\n",
              "      <td>0.2280</td>\n",
              "      <td>0.455</td>\n",
              "      <td>119.834</td>\n",
              "      <td>137133</td>\n",
              "      <td>4</td>\n",
              "      <td>29.35954</td>\n",
              "      <td>8</td>\n",
              "      <td>1</td>\n",
              "      <td>5</td>\n",
              "    </tr>\n",
              "  </tbody>\n",
              "</table>\n",
              "</div>"
            ],
            "text/plain": [
              "                                track               artist  ... target  clusters\n",
              "0               Jealous Kind Of Fella        Garland Green  ...      1         9\n",
              "1499                         What Now        Gene Chandler  ...      1         9\n",
              "7963  Death Rides a Horse - Version 2      Ennio Morricone  ...      0         3\n",
              "592                         Dirty Man            Laura Lee  ...      1         3\n",
              "4754           Some Enchanted Evening  Jay & The Americans  ...      1         5\n",
              "\n",
              "[5 rows x 20 columns]"
            ]
          },
          "metadata": {
            "tags": []
          },
          "execution_count": 47
        }
      ]
    },
    {
      "cell_type": "markdown",
      "metadata": {
        "id": "S13G22NRwPjp",
        "colab_type": "text"
      },
      "source": [
        "###neural networks"
      ]
    },
    {
      "cell_type": "markdown",
      "metadata": {
        "id": "ZW8f6rg9Ij-B",
        "colab_type": "text"
      },
      "source": [
        "Neural networks seems to be a bit of overkill for the task."
      ]
    },
    {
      "cell_type": "code",
      "metadata": {
        "id": "CaPUAurM_SWL",
        "colab_type": "code",
        "colab": {}
      },
      "source": [
        "import os\n",
        "import datetime\n",
        "from tensorflow.keras.layers import Input, Dense\n",
        "from tensorflow.keras.models import Model\n",
        "from tensorflow.keras.callbacks import EarlyStopping, TensorBoard\n",
        "\n",
        "from tensorflow.keras.callbacks import TensorBoard\n",
        "# this is the size of our encoded representations\n",
        "encoding_dim = 1000\n",
        "\n",
        "# this is our input placeholder\n",
        "input_shape = Input(shape=(15,))\n",
        "\n",
        "# \"encoded\" is the encoded representation of the input\n",
        "encoded = Dense(encoding_dim, activation=\"elu\")(input_shape)\n",
        "\n",
        "# \"decoded\" is the lossy reconstruction of the input\n",
        "decoded = Dense(15, activation=\"sigmoid\")(encoded)\n",
        "\n",
        "# this model maps an input to its reconstruction\n",
        "autoencoder = Model(input_shape, decoded)"
      ],
      "execution_count": 0,
      "outputs": []
    },
    {
      "cell_type": "code",
      "metadata": {
        "id": "-GF_73_U_eHz",
        "colab_type": "code",
        "colab": {}
      },
      "source": [
        "autoencoder.compile(optimizer='nadam', loss='binary_crossentropy')"
      ],
      "execution_count": 0,
      "outputs": []
    },
    {
      "cell_type": "code",
      "metadata": {
        "id": "TSNhdbVc5OJZ",
        "colab_type": "code",
        "outputId": "d5ed2b0f-f44a-440a-f561-22f6868e629a",
        "colab": {
          "base_uri": "https://localhost:8080/",
          "height": 354
        }
      },
      "source": [
        "\n",
        "stop = EarlyStopping(monitor='val_loss', min_delta=0.001, patience=2)\n",
        "\n",
        "logdir = os.path.join(\"logs\", datetime.datetime.now().strftime(\"%Y%m%d-%H%M%S\"))\n",
        "tensorboard = TensorBoard(log_dir=logdir)\n",
        "\n",
        "autoencoder.fit(X_train, X_train,\n",
        "                epochs=10000,\n",
        "                batch_size=64,\n",
        "                shuffle=True,\n",
        "                validation_data=(X_test, X_test),\n",
        "                verbose = 1,\n",
        "                callbacks=[stop, tensorboard])"
      ],
      "execution_count": 0,
      "outputs": [
        {
          "output_type": "stream",
          "text": [
            "Epoch 1/10000\n",
            "62/62 [==============================] - 0s 5ms/step - loss: 0.4739 - val_loss: 0.4116\n",
            "Epoch 2/10000\n",
            "62/62 [==============================] - 0s 4ms/step - loss: 0.3929 - val_loss: 0.3814\n",
            "Epoch 3/10000\n",
            "62/62 [==============================] - 0s 4ms/step - loss: 0.3770 - val_loss: 0.3740\n",
            "Epoch 4/10000\n",
            "62/62 [==============================] - 0s 4ms/step - loss: 0.3725 - val_loss: 0.3716\n",
            "Epoch 5/10000\n",
            "62/62 [==============================] - 0s 4ms/step - loss: 0.3705 - val_loss: 0.3699\n",
            "Epoch 6/10000\n",
            "62/62 [==============================] - 0s 4ms/step - loss: 0.3694 - val_loss: 0.3692\n",
            "Epoch 7/10000\n",
            "62/62 [==============================] - 0s 4ms/step - loss: 0.3689 - val_loss: 0.3686\n",
            "Epoch 8/10000\n",
            "62/62 [==============================] - 0s 4ms/step - loss: 0.3685 - val_loss: 0.3684\n",
            "Epoch 9/10000\n",
            "62/62 [==============================] - 0s 4ms/step - loss: 0.3683 - val_loss: 0.3683\n"
          ],
          "name": "stdout"
        },
        {
          "output_type": "execute_result",
          "data": {
            "text/plain": [
              "<tensorflow.python.keras.callbacks.History at 0x7fa1d404f8d0>"
            ]
          },
          "metadata": {
            "tags": []
          },
          "execution_count": 38
        }
      ]
    },
    {
      "cell_type": "code",
      "metadata": {
        "id": "ZBTVqHelVzKN",
        "colab_type": "code",
        "colab": {}
      },
      "source": [
        "input_shape = Input(shape=(15,))\n",
        "encoded = Dense(10, activation='elu')(input_shape)\n",
        "encoded = Dense(5, activation='elu')(encoded)\n",
        "\n",
        "encoded = Dense(3, activation='elu')(encoded) #=> This is the dry fruit\n",
        "\n",
        "decoded = Dense(5, activation='elu')(encoded)\n",
        "decoded = Dense(10, activation='elu')(decoded)\n",
        "decoded = Dense(15, activation=\"softmax\")(decoded)"
      ],
      "execution_count": 0,
      "outputs": []
    },
    {
      "cell_type": "code",
      "metadata": {
        "id": "tDihTCuzVzEV",
        "colab_type": "code",
        "outputId": "e3b01be3-d435-46b4-d821-4975c13f458f",
        "colab": {
          "base_uri": "https://localhost:8080/",
          "height": 1000
        }
      },
      "source": [
        "# compile & fit model\n",
        "\n",
        "autoencoder = Model(input_shape, decoded)\n",
        "\n",
        "autoencoder.compile(optimizer='adadelta',\n",
        "                    loss='binary_crossentropy')\n",
        "\n",
        "stop = EarlyStopping(monitor='val_loss', min_delta=0.001, patience=2)\n",
        "\n",
        "logdir = os.path.join(\"logs\", datetime.datetime.now().strftime(\"%Y%m%d-%H%M%S\"))\n",
        "tensorboard = TensorBoard(log_dir=logdir)\n",
        "\n",
        "autoencoder.fit(X_train, X_train,\n",
        "                epochs=10000,\n",
        "                batch_size=32,\n",
        "                shuffle=True,\n",
        "                validation_data=(X_test, X_test),\n",
        "                verbose = 1,\n",
        "                callbacks=[stop, tensorboard])"
      ],
      "execution_count": 0,
      "outputs": [
        {
          "output_type": "stream",
          "text": [
            "Epoch 1/10000\n",
            "123/123 [==============================] - 1s 5ms/step - loss: 0.6939 - val_loss: 0.6892\n",
            "Epoch 2/10000\n",
            "123/123 [==============================] - 0s 4ms/step - loss: 0.6844 - val_loss: 0.6796\n",
            "Epoch 3/10000\n",
            "123/123 [==============================] - 0s 4ms/step - loss: 0.6749 - val_loss: 0.6701\n",
            "Epoch 4/10000\n",
            "123/123 [==============================] - 0s 4ms/step - loss: 0.6654 - val_loss: 0.6604\n",
            "Epoch 5/10000\n",
            "123/123 [==============================] - 0s 4ms/step - loss: 0.6556 - val_loss: 0.6505\n",
            "Epoch 6/10000\n",
            "123/123 [==============================] - 0s 4ms/step - loss: 0.6455 - val_loss: 0.6402\n",
            "Epoch 7/10000\n",
            "123/123 [==============================] - 0s 4ms/step - loss: 0.6350 - val_loss: 0.6294\n",
            "Epoch 8/10000\n",
            "123/123 [==============================] - 0s 4ms/step - loss: 0.6242 - val_loss: 0.6183\n",
            "Epoch 9/10000\n",
            "123/123 [==============================] - 0s 4ms/step - loss: 0.6130 - val_loss: 0.6070\n",
            "Epoch 10/10000\n",
            "123/123 [==============================] - 0s 4ms/step - loss: 0.6016 - val_loss: 0.5955\n",
            "Epoch 11/10000\n",
            "123/123 [==============================] - 0s 4ms/step - loss: 0.5902 - val_loss: 0.5842\n",
            "Epoch 12/10000\n",
            "123/123 [==============================] - 0s 4ms/step - loss: 0.5791 - val_loss: 0.5731\n",
            "Epoch 13/10000\n",
            "123/123 [==============================] - 0s 4ms/step - loss: 0.5684 - val_loss: 0.5627\n",
            "Epoch 14/10000\n",
            "123/123 [==============================] - 0s 4ms/step - loss: 0.5583 - val_loss: 0.5529\n",
            "Epoch 15/10000\n",
            "123/123 [==============================] - 0s 4ms/step - loss: 0.5491 - val_loss: 0.5441\n",
            "Epoch 16/10000\n",
            "123/123 [==============================] - 0s 4ms/step - loss: 0.5409 - val_loss: 0.5363\n",
            "Epoch 17/10000\n",
            "123/123 [==============================] - 0s 4ms/step - loss: 0.5336 - val_loss: 0.5295\n",
            "Epoch 18/10000\n",
            "123/123 [==============================] - 0s 4ms/step - loss: 0.5274 - val_loss: 0.5237\n",
            "Epoch 19/10000\n",
            "123/123 [==============================] - 0s 4ms/step - loss: 0.5221 - val_loss: 0.5188\n",
            "Epoch 20/10000\n",
            "123/123 [==============================] - 0s 4ms/step - loss: 0.5177 - val_loss: 0.5148\n",
            "Epoch 21/10000\n",
            "123/123 [==============================] - 0s 4ms/step - loss: 0.5140 - val_loss: 0.5115\n",
            "Epoch 22/10000\n",
            "123/123 [==============================] - 0s 4ms/step - loss: 0.5110 - val_loss: 0.5087\n",
            "Epoch 23/10000\n",
            "123/123 [==============================] - 0s 4ms/step - loss: 0.5086 - val_loss: 0.5065\n",
            "Epoch 24/10000\n",
            "123/123 [==============================] - 0s 4ms/step - loss: 0.5066 - val_loss: 0.5047\n",
            "Epoch 25/10000\n",
            "123/123 [==============================] - 0s 4ms/step - loss: 0.5049 - val_loss: 0.5032\n",
            "Epoch 26/10000\n",
            "123/123 [==============================] - 0s 4ms/step - loss: 0.5036 - val_loss: 0.5020\n",
            "Epoch 27/10000\n",
            "123/123 [==============================] - 0s 4ms/step - loss: 0.5025 - val_loss: 0.5009\n",
            "Epoch 28/10000\n",
            "123/123 [==============================] - 0s 4ms/step - loss: 0.5016 - val_loss: 0.5001\n",
            "Epoch 29/10000\n",
            "123/123 [==============================] - 0s 4ms/step - loss: 0.5008 - val_loss: 0.4994\n",
            "Epoch 30/10000\n",
            "123/123 [==============================] - 0s 4ms/step - loss: 0.5001 - val_loss: 0.4987\n",
            "Epoch 31/10000\n",
            "123/123 [==============================] - 0s 4ms/step - loss: 0.4995 - val_loss: 0.4982\n",
            "Epoch 32/10000\n",
            "123/123 [==============================] - 0s 4ms/step - loss: 0.4990 - val_loss: 0.4977\n",
            "Epoch 33/10000\n",
            "123/123 [==============================] - 0s 4ms/step - loss: 0.4985 - val_loss: 0.4973\n"
          ],
          "name": "stdout"
        },
        {
          "output_type": "execute_result",
          "data": {
            "text/plain": [
              "<tensorflow.python.keras.callbacks.History at 0x7fa1d41770f0>"
            ]
          },
          "metadata": {
            "tags": []
          },
          "execution_count": 31
        }
      ]
    },
    {
      "cell_type": "code",
      "metadata": {
        "id": "ltYoWSr4fhQJ",
        "colab_type": "code",
        "colab": {}
      },
      "source": [
        "# import matplotlib.pyplot as plt\n",
        "# x_test_encoded = encoder.predict(X_test, batch_size=32)\n",
        "# plt.figure(figsize=(6, 6))\n",
        "# plt.scatter(x_test_encoded[:, 0], x_test_encoded[:, 1], c=y_test)\n",
        "# plt.colorbar()\n",
        "# plt.show()"
      ],
      "execution_count": 0,
      "outputs": []
    },
    {
      "cell_type": "code",
      "metadata": {
        "id": "tgjFahwd-yvU",
        "colab_type": "code",
        "colab": {}
      },
      "source": [
        "# %tensorboard --logdir \"./logs\""
      ],
      "execution_count": 0,
      "outputs": []
    },
    {
      "cell_type": "code",
      "metadata": {
        "id": "HW0CxDo-bS5m",
        "colab_type": "code",
        "colab": {}
      },
      "source": [
        "# encoder = Model(input_shape, encoded)\n",
        "# encoded_songs = encoder.predict(X_train)"
      ],
      "execution_count": 0,
      "outputs": []
    },
    {
      "cell_type": "code",
      "metadata": {
        "id": "VKRQUu23jOZm",
        "colab_type": "code",
        "colab": {}
      },
      "source": [
        "# from sklearn.neighbors import KNeighborsClassifier\n",
        "# nn = KNeighborsClassifier(n_neighbors=3)\n",
        "# nn.fit(encoded_songs)"
      ],
      "execution_count": 0,
      "outputs": []
    },
    {
      "cell_type": "markdown",
      "metadata": {
        "id": "QXBmgEY7SPTm",
        "colab_type": "text"
      },
      "source": [
        "###Pickle model"
      ]
    },
    {
      "cell_type": "code",
      "metadata": {
        "id": "uMuRQtabSSUc",
        "colab_type": "code",
        "colab": {}
      },
      "source": [
        "import pickle"
      ],
      "execution_count": 0,
      "outputs": []
    },
    {
      "cell_type": "code",
      "metadata": {
        "id": "q2neSBzhSTpN",
        "colab_type": "code",
        "colab": {}
      },
      "source": [
        "# Its important to use binary mode \n",
        "nnPickle = open('nnpickle_file', 'wb') \n",
        "\n",
        "# source, destination \n",
        "pickle.dump(nn, nnPickle)                      \n",
        "\n",
        "\n",
        "# load the model from disk\n",
        "loaded_model = pickle.load(open('nnpickle_file', 'rb'))\n",
        "result = loaded_model.kneighbors([[0.592, 0.652, 11, -11.258, 0, 0.0574, 0.0603, 0.000397, 0.1390, 0.626, 116.000, 220573, 4, 79.29625, 7, 1, 9]], return_distance=False) "
      ],
      "execution_count": 0,
      "outputs": []
    },
    {
      "cell_type": "code",
      "metadata": {
        "id": "KVIS26BFVw2j",
        "colab_type": "code",
        "outputId": "915cc13c-dff9-4d5e-aa55-c888a2d7da76",
        "colab": {
          "base_uri": "https://localhost:8080/",
          "height": 52
        }
      },
      "source": [
        "result "
      ],
      "execution_count": 0,
      "outputs": [
        {
          "output_type": "execute_result",
          "data": {
            "text/plain": [
              "array([[32740, 32011, 28922, 12908, 10545, 12821,  1414, 17808, 11262,\n",
              "        32341]])"
            ]
          },
          "metadata": {
            "tags": []
          },
          "execution_count": 32
        }
      ]
    },
    {
      "cell_type": "markdown",
      "metadata": {
        "id": "7c6XfJLm3jOn",
        "colab_type": "text"
      },
      "source": [
        "###Visualization"
      ]
    },
    {
      "cell_type": "code",
      "metadata": {
        "id": "zSeCflJsVyDI",
        "colab_type": "code",
        "outputId": "2fb7a1fc-36b0-4681-ba1e-239884bc5a4d",
        "colab": {
          "base_uri": "https://localhost:8080/",
          "height": 425
        }
      },
      "source": [
        "\n",
        "print(__doc__)\n",
        "\n",
        "from time import time\n",
        "import numpy as np\n",
        "import matplotlib.pyplot as plt\n",
        "\n",
        "from sklearn import metrics\n",
        "from sklearn.cluster import KMeans\n",
        "from sklearn.datasets import load_digits\n",
        "from sklearn.decomposition import PCA\n",
        "from sklearn.preprocessing import scale\n",
        "\n",
        "np.random.seed(42)\n",
        "\n",
        "X_digits = df.drop(['uri', 'track', 'artist'], axis=1)\n",
        "y_digits = df['uri']\n",
        "data = scale(X_digits)\n",
        "\n",
        "n_samples, n_features = data.shape\n",
        "n_digits = 5\n",
        "# n_digits = len(np.unique(y_digits))\n",
        "labels = y_digits\n",
        "\n",
        "sample_size = 400\n",
        "\n",
        "print(\"n_digits: %d, \\t n_samples %d, \\t n_features %d\"\n",
        "      % (n_digits, n_samples, n_features))\n",
        "\n",
        "\n",
        "print(82 * '_')\n",
        "print('init\\t\\ttime\\tinertia\\thomo\\tcompl\\tv-meas\\tARI\\tAMI\\tsilhouette')\n",
        "\n",
        "\n",
        "def bench_k_means(estimator, name, data):\n",
        "    t0 = time()\n",
        "    estimator.fit(data)\n",
        "    print('%-9s\\t%.2fs\\t%i\\t%.3f\\t%.3f\\t%.3f\\t%.3f\\t%.3f\\t%.3f'\n",
        "          % (name, (time() - t0), estimator.inertia_,\n",
        "             metrics.homogeneity_score(labels, estimator.labels_),\n",
        "             metrics.completeness_score(labels, estimator.labels_),\n",
        "             metrics.v_measure_score(labels, estimator.labels_),\n",
        "             metrics.adjusted_rand_score(labels, estimator.labels_),\n",
        "             metrics.adjusted_mutual_info_score(labels,  estimator.labels_),\n",
        "             metrics.silhouette_score(data, estimator.labels_,\n",
        "                                      metric='euclidean',\n",
        "                                      sample_size=sample_size)))\n",
        "\n",
        "bench_k_means(KMeans(init='k-means++', n_clusters=n_digits, n_init=10),\n",
        "              name=\"k-means++\", data=data)\n",
        "\n",
        "bench_k_means(KMeans(init='random', n_clusters=n_digits, n_init=10),\n",
        "              name=\"random\", data=data)\n",
        "\n",
        "# in this case the seeding of the centers is deterministic, hence we run the\n",
        "# kmeans algorithm only once with n_init=1\n",
        "pca = PCA(n_components=n_digits).fit(data)\n",
        "bench_k_means(KMeans(init=pca.components_, n_clusters=n_digits, n_init=1),\n",
        "              name=\"PCA-based\",\n",
        "              data=data)\n",
        "print(82 * '_')\n",
        "\n",
        "# #############################################################################\n",
        "# Visualize the results on PCA-reduced data\n",
        "\n",
        "reduced_data = PCA(n_components=2).fit_transform(data)\n",
        "kmeans = KMeans(init='k-means++', n_clusters=n_digits, n_init=10)\n",
        "kmeans.fit(reduced_data)\n",
        "\n",
        "# Step size of the mesh. Decrease to increase the quality of the VQ.\n",
        "h = .02     # point in the mesh [x_min, x_max]x[y_min, y_max].\n",
        "\n",
        "# Plot the decision boundary. For that, we will assign a color to each\n",
        "x_min, x_max = reduced_data[:, 0].min() - 1, reduced_data[:, 0].max() + 1\n",
        "y_min, y_max = reduced_data[:, 1].min() - 1, reduced_data[:, 1].max() + 1\n",
        "xx, yy = np.meshgrid(np.arange(x_min, x_max, h), np.arange(y_min, y_max, h))\n",
        "\n",
        "# Obtain labels for each point in mesh. Use last trained model.\n",
        "Z = kmeans.predict(np.c_[xx.ravel(), yy.ravel()])\n",
        "\n",
        "# Put the result into a color plot\n",
        "Z = Z.reshape(xx.shape)\n",
        "plt.figure(1)\n",
        "plt.clf()\n",
        "plt.imshow(Z, interpolation='nearest',\n",
        "           extent=(xx.min(), xx.max(), yy.min(), yy.max()),\n",
        "           cmap=plt.cm.Paired,\n",
        "           aspect='auto', origin='lower')\n",
        "\n",
        "plt.plot(reduced_data[:, 0], reduced_data[:, 1], 'k.', markersize=2)\n",
        "# Plot the centroids as a white X\n",
        "centroids = kmeans.cluster_centers_\n",
        "plt.scatter(centroids[:, 0], centroids[:, 1],\n",
        "            marker='x', s=169, linewidths=3,\n",
        "            color='w', zorder=10)\n",
        "plt.title('K-means clustering on the dataset (PCA-reduced data)\\n'\n",
        "          'Centroids are marked with white cross')\n",
        "plt.xlim(x_min, x_max)\n",
        "plt.ylim(y_min, y_max)\n",
        "plt.xticks(())\n",
        "plt.yticks(())\n",
        "plt.show()"
      ],
      "execution_count": 0,
      "outputs": [
        {
          "output_type": "stream",
          "text": [
            "Automatically created module for IPython interactive environment\n",
            "n_digits: 5, \t n_samples 40560, \t n_features 16\n",
            "__________________________________________________________________________________\n",
            "init\t\ttime\tinertia\thomo\tcompl\tv-meas\tARI\tAMI\tsilhouette\n",
            "k-means++\t1.74s\t470141\t0.132\t1.000\t0.233\t0.000\t-0.000\t0.097\n",
            "random   \t1.28s\t470141\t0.132\t1.000\t0.233\t0.000\t0.000\t0.097\n",
            "PCA-based\t0.28s\t470141\t0.132\t1.000\t0.233\t0.000\t0.000\t0.088\n",
            "__________________________________________________________________________________\n"
          ],
          "name": "stdout"
        },
        {
          "output_type": "display_data",
          "data": {
            "image/png": "[encoded data removed]",
            "text/plain": [
              "<Figure size 432x288 with 1 Axes>"
            ]
          },
          "metadata": {
            "tags": []
          }
        }
      ]
    },
    {
      "cell_type": "code",
      "metadata": {
        "id": "GskWQ311ExXT",
        "colab_type": "code",
        "outputId": "7baceb01-04b6-4fb4-9727-1ef144ddaf73",
        "colab": {
          "base_uri": "https://localhost:8080/",
          "height": 441
        }
      },
      "source": [
        "print(__doc__)\n",
        "\n",
        "import numpy as np\n",
        "\n",
        "from sklearn.cluster import DBSCAN\n",
        "from sklearn import metrics\n",
        "from sklearn.datasets import make_blobs\n",
        "from sklearn.preprocessing import StandardScaler\n",
        "\n",
        "np.random.seed(42)\n",
        "\n",
        "# #############################################################################\n",
        "# Generate sample data\n",
        "\n",
        "X = df.drop(['uri', 'track', 'artist'], axis=1)\n",
        "labels_true = df['uri']\n",
        "\n",
        "X = StandardScaler().fit_transform(X)\n",
        "# #############################################################################\n",
        "# Compute DBSCAN\n",
        "db = DBSCAN(eps=5, min_samples=3).fit(X)\n",
        "core_samples_mask = np.zeros_like(db.labels_, dtype=bool)\n",
        "core_samples_mask[db.core_sample_indices_] = True\n",
        "labels = db.labels_\n",
        "\n",
        "# Number of clusters in labels, ignoring noise if present.\n",
        "n_clusters_ = len(set(labels)) - (1 if -1 in labels else 0)\n",
        "n_noise_ = list(labels).count(-1)\n",
        "\n",
        "print('Estimated number of clusters: %d' % n_clusters_)\n",
        "print('Estimated number of noise points: %d' % n_noise_)\n",
        "print(\"Homogeneity: %0.3f\" % metrics.homogeneity_score(labels_true, labels))\n",
        "print(\"Completeness: %0.3f\" % metrics.completeness_score(labels_true, labels))\n",
        "print(\"V-measure: %0.3f\" % metrics.v_measure_score(labels_true, labels))\n",
        "print(\"Adjusted Rand Index: %0.3f\"\n",
        "      % metrics.adjusted_rand_score(labels_true, labels))\n",
        "print(\"Adjusted Mutual Information: %0.3f\"\n",
        "      % metrics.adjusted_mutual_info_score(labels_true, labels))\n",
        "print(\"Silhouette Coefficient: %0.3f\"\n",
        "      % metrics.silhouette_score(X, labels))\n",
        "\n",
        "# #############################################################################\n",
        "# Plot result\n",
        "import matplotlib.pyplot as plt\n",
        "\n",
        "# Black removed and is used for noise instead.\n",
        "unique_labels = set(labels)\n",
        "colors = [plt.cm.Spectral(each)\n",
        "          for each in np.linspace(0, 1, len(unique_labels))]\n",
        "for k, col in zip(unique_labels, colors):\n",
        "    if k == -1:\n",
        "        # Black used for noise.\n",
        "        col = [0, 0, 0, 1]\n",
        "\n",
        "    class_member_mask = (labels == k)\n",
        "\n",
        "    xy = X[class_member_mask & core_samples_mask]\n",
        "    plt.plot(xy[:, 0], xy[:, 1], 'o', markerfacecolor=tuple(col),\n",
        "             markeredgecolor='k', markersize=2)\n",
        "\n",
        "    xy = X[class_member_mask & ~core_samples_mask]\n",
        "    plt.plot(xy[:, 0], xy[:, 1], 'o', markerfacecolor=tuple(col),\n",
        "             markeredgecolor='k', markersize=.2)\n",
        "\n",
        "plt.title('Estimated number of clusters: %d' % n_clusters_)\n",
        "plt.show()"
      ],
      "execution_count": 48,
      "outputs": [
        {
          "output_type": "stream",
          "text": [
            "Automatically created module for IPython interactive environment\n",
            "Estimated number of clusters: 2\n",
            "Estimated number of noise points: 19\n",
            "Homogeneity: 0.000\n",
            "Completeness: 1.000\n",
            "V-measure: 0.001\n",
            "Adjusted Rand Index: 0.000\n",
            "Adjusted Mutual Information: -0.000\n",
            "Silhouette Coefficient: 0.758\n"
          ],
          "name": "stdout"
        },
        {
          "output_type": "display_data",
          "data": {
            "image/png": "[encoded data removed]",
            "text/plain": [
              "<Figure size 432x288 with 1 Axes>"
            ]
          },
          "metadata": {
            "tags": [],
            "needs_background": "light"
          }
        }
      ]
    },
    {
      "cell_type": "markdown",
      "metadata": {
        "id": "DlMQ499ojXtZ",
        "colab_type": "text"
      },
      "source": [
        "###Ideas to work on\n",
        "\n",
        "- predict top songs with given decade\n",
        "- return happybirthday song first if its birthday or top song during their birth year.\n",
        "- "
      ]
    },
    {
      "cell_type": "code",
      "metadata": {
        "id": "TTXC8medTLkG",
        "colab_type": "code",
        "colab": {}
      },
      "source": [
        ""
      ],
      "execution_count": 0,
      "outputs": []
    }
  ]
}